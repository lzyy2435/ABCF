{
 "cells": [
  {
   "cell_type": "code",
   "execution_count": 1,
   "id": "0ed768b6-802e-4ee0-bcbc-ef92158b4214",
   "metadata": {},
   "outputs": [
    {
     "name": "stdout",
     "output_type": "stream",
     "text": [
      "('0', '.', '0', '.', '0', '.', '0', 'u', 'a', '-', 'q', 'i', 'n', 'g', 't', 'i', 'n', 'g', '-', '2', '6', '0', '0', '0', '1', '.', 'c', 'o', 'n', 'f', 'i', 'g')\n",
      "161381\n"
     ]
    }
   ],
   "source": [
    "import csv\n",
    "\n",
    "suspect_pool = []\n",
    "path1 = r\"中国大学生服务外包创新创业大赛/网址自动分类识别/test(unlabeled).csv\"\n",
    "path2 = r\"url_suspect_test.txt\"\n",
    "for _ in csv.reader(open(path2)):\n",
    "    suspect_pool.append(tuple(_[0]))\n",
    "\n",
    "suspect_pool_set = set(suspect_pool)\n",
    "print(suspect_pool[0])\n",
    "print(len(suspect_pool))"
   ]
  },
  {
   "cell_type": "code",
   "execution_count": 2,
   "id": "acbfb0cc-1e14-4c51-8bcd-3642381bede4",
   "metadata": {},
   "outputs": [
    {
     "name": "stdout",
     "output_type": "stream",
     "text": [
      "161381\n"
     ]
    }
   ],
   "source": [
    "print(len(suspect_pool_set))"
   ]
  },
  {
   "cell_type": "code",
   "execution_count": 3,
   "id": "c9544e1f-4557-40c0-8164-66c394914c8b",
   "metadata": {},
   "outputs": [
    {
     "name": "stdout",
     "output_type": "stream",
     "text": [
      "True\n",
      "('0', '.', '0', '.', '0', '.', '0', 'u', 'a', '-', 'q', 'i', 'n', 'g', 't', 'i', 'n', 'g', '-', '2', '6', '0', '0', '0', '1', '.', 'c', 'o', 'n', 'f', 'i', 'g')\n"
     ]
    }
   ],
   "source": [
    "print(tuple(\"0.0.0.0ua-qingting-260001.config\") in suspect_pool_set)\n",
    "print((tuple(\"0.0.0.0ua-qingting-260001.config\")))"
   ]
  },
  {
   "cell_type": "code",
   "execution_count": 4,
   "id": "e9b75c33-99e2-4ec4-8a8b-10028dceeedb",
   "metadata": {},
   "outputs": [],
   "source": [
    "test=[]\n",
    "for _ in csv.reader(open(\"test-zhanwei.csv\")):\n",
    "    test.append(_)"
   ]
  },
  {
   "cell_type": "code",
   "execution_count": 5,
   "id": "2c6b1b1c-7c5f-451d-8892-540d6e3d682a",
   "metadata": {},
   "outputs": [
    {
     "name": "stdout",
     "output_type": "stream",
     "text": [
      "['0.0.0.0ua-qingting-260001.config', '-1']\n",
      "1048477\n",
      "0.0.0.0ua-qingting-260001.config\n",
      "False\n"
     ]
    }
   ],
   "source": [
    "print(test[0])\n",
    "print(len(test))\n",
    "print(test[0][0])\n",
    "print(tuple(test[0][0]) not in suspect_pool_set)"
   ]
  },
  {
   "cell_type": "code",
   "execution_count": 6,
   "id": "1b865c11-3874-4cd9-9bf8-605acd6378e2",
   "metadata": {},
   "outputs": [
    {
     "name": "stdout",
     "output_type": "stream",
     "text": [
      "887097\n"
     ]
    }
   ],
   "source": [
    "n=0\n",
    "for i in range(len(test)):\n",
    "    # print(test[i][0])\n",
    "    if tuple(test[i][0]) not in suspect_pool_set:\n",
    "        test[i][1]=0\n",
    "        n+=1\n",
    "print(n)"
   ]
  },
  {
   "cell_type": "code",
   "execution_count": 7,
   "id": "278da852-b86b-4ecc-bfc4-c8f73c8d6114",
   "metadata": {},
   "outputs": [],
   "source": [
    "# with open('test-all.csv', 'w', newline='\\n') as csvfile:\n",
    "#     spamwriter = csv.writer(csvfile, delimiter=',')#,\n",
    "#                             # quotechar='|', quoting=csv.QUOTE_MINIMAL)\n",
    "#     for i in test: \n",
    "#         spamwriter.writerow(item for item in i)\n",
    "#     # spamwriter.writerow(['Spam', 'Lovely Spam', 'Wonderful Spam'])"
   ]
  },
  {
   "cell_type": "code",
   "execution_count": 8,
   "id": "8e67b006-48c7-45c2-b2f8-eee6c60f17be",
   "metadata": {},
   "outputs": [],
   "source": [
    "# import csv\n",
    " \n",
    "# with open(path1) as csvFile:\n",
    "#     rows = csv.reader(csvFile)\n",
    "#     with open(\"test-zhanwei.csv\", 'w') as f:\n",
    "#         writer = csv.writer(f)\n",
    "#         for row in rows:\n",
    "#             row.append('-1')\n",
    "#             writer.writerow(row)"
   ]
  },
  {
   "cell_type": "code",
   "execution_count": 9,
   "id": "0d4a333b-2d85-433d-81ec-f83d9dc61adc",
   "metadata": {},
   "outputs": [],
   "source": [
    "def inhere(set_h:set,url:str):\n",
    "    for i in range(12):\n",
    "        if tuple([url,str(i)]) in set_h:\n",
    "            return i\n",
    "    return -1"
   ]
  },
  {
   "cell_type": "code",
   "execution_count": 10,
   "id": "57f76fd7-1863-4261-951a-fd5fc22ddba5",
   "metadata": {},
   "outputs": [],
   "source": [
    "# 处理sq\n",
    "\n",
    "homepage = []\n",
    "for _ in csv.reader(open(\"available_result_new_fix.csv\")):\n",
    "    homepage.append(tuple([_[0],_[2]]))\n",
    "\n",
    "homepage_set = set(homepage)"
   ]
  },
  {
   "cell_type": "code",
   "execution_count": 11,
   "id": "2ed3da2b-7727-49fa-a35b-ce1c545019be",
   "metadata": {},
   "outputs": [
    {
     "name": "stdout",
     "output_type": "stream",
     "text": [
      "('00005.cdrcp.kelejiabing.cn', '0')\n",
      "32265\n"
     ]
    }
   ],
   "source": [
    "print(homepage[0])\n",
    "print(len(homepage))"
   ]
  },
  {
   "cell_type": "code",
   "execution_count": 12,
   "id": "7199b853-1847-40ea-a57d-040066b0be27",
   "metadata": {},
   "outputs": [
    {
     "name": "stdout",
     "output_type": "stream",
     "text": [
      "0\n"
     ]
    }
   ],
   "source": [
    "print(inhere(homepage_set,'00005.cdrcp.kelejiabing.cn'))"
   ]
  },
  {
   "cell_type": "code",
   "execution_count": 13,
   "id": "5f096023-9731-455c-9c06-531c2ea2f8fd",
   "metadata": {},
   "outputs": [
    {
     "name": "stderr",
     "output_type": "stream",
     "text": [
      "100%|██████████| 1048477/1048477 [00:05<00:00, 186195.05it/s]"
     ]
    },
    {
     "name": "stdout",
     "output_type": "stream",
     "text": [
      "响应数量： 32264\n"
     ]
    },
    {
     "name": "stderr",
     "output_type": "stream",
     "text": [
      "\n"
     ]
    }
   ],
   "source": [
    "from tqdm import tqdm\n",
    "n=0\n",
    "for i in tqdm(range(len(test))):\n",
    "    # print(test[i][0])\n",
    "    ans = inhere(homepage_set,test[i][0])\n",
    "    # print(ans)\n",
    "    if ans!=-1:\n",
    "        test[i][1]=ans\n",
    "        n+=1\n",
    "print(\"响应数量：\",n)"
   ]
  },
  {
   "cell_type": "code",
   "execution_count": 14,
   "id": "9853c535-0bf4-4244-8101-906c9cdb1c8e",
   "metadata": {},
   "outputs": [],
   "source": [
    "# with open('test-all-homepage.csv', 'w', newline='\\n') as csvfile:\n",
    "#     spamwriter = csv.writer(csvfile, delimiter=',')#,\n",
    "#                             # quotechar='|', quoting=csv.QUOTE_MINIMAL)\n",
    "#     for i in test: \n",
    "#         spamwriter.writerow(item for item in i)\n",
    "#     # spamwriter.writerow(['Spam', 'Lovely Spam', 'Wonderful Spam'])"
   ]
  },
  {
   "cell_type": "code",
   "execution_count": 15,
   "id": "173c31d5-68bb-47b8-8ce7-5059f21c5cf0",
   "metadata": {},
   "outputs": [
    {
     "name": "stdout",
     "output_type": "stream",
     "text": [
      "('0.0.0.0ua-qingting-260001.config', '0')\n",
      "161381\n"
     ]
    }
   ],
   "source": [
    "# 处理xgb\n",
    "\n",
    "homepage = []\n",
    "for _ in csv.reader(open(\"test-xgb.csv\")):\n",
    "    homepage.append(tuple([_[0],_[1]]))\n",
    "\n",
    "homepage_set = set(homepage)\n",
    "\n",
    "print(homepage[0])\n",
    "print(len(homepage))"
   ]
  },
  {
   "cell_type": "code",
   "execution_count": 16,
   "id": "8d423337-37e8-4e72-9a66-f46a90a60de3",
   "metadata": {},
   "outputs": [
    {
     "name": "stderr",
     "output_type": "stream",
     "text": [
      "100%|██████████| 1048477/1048477 [00:00<00:00, 1156451.52it/s]"
     ]
    },
    {
     "name": "stdout",
     "output_type": "stream",
     "text": [
      "相应数量： 129624\n"
     ]
    },
    {
     "name": "stderr",
     "output_type": "stream",
     "text": [
      "\n"
     ]
    }
   ],
   "source": [
    "from tqdm import tqdm\n",
    "n=0\n",
    "for i in tqdm(range(len(test))):\n",
    "    # print(test[i][0])\n",
    "    if test[i][1] == -1 or test[i][1] == '-1':\n",
    "        ans = inhere(homepage_set,test[i][0])\n",
    "    # print(ans)\n",
    "        if ans!=-1:\n",
    "            test[i][1]=ans\n",
    "            n+=1\n",
    "        else:\n",
    "            test[i][1]=0\n",
    "print(\"相应数量：\",n)"
   ]
  },
  {
   "cell_type": "code",
   "execution_count": null,
   "id": "b3985db2-6439-4f80-bd2c-22322c3b66ec",
   "metadata": {},
   "outputs": [],
   "source": []
  },
  {
   "cell_type": "code",
   "execution_count": 17,
   "id": "3d8be6ba-c362-4ad4-8dd8-b9e5bd3a5a1e",
   "metadata": {},
   "outputs": [],
   "source": [
    "with open('test-all-ans.csv', 'w', newline='\\n') as csvfile:\n",
    "    spamwriter = csv.writer(csvfile, delimiter=',')#,\n",
    "                            # quotechar='|', quoting=csv.QUOTE_MINIMAL)\n",
    "    for i in test: \n",
    "        spamwriter.writerow(item for item in i)\n",
    "    # spamwriter.writerow(['Spam', 'Lovely Spam', 'Wonderful Spam'])"
   ]
  },
  {
   "cell_type": "code",
   "execution_count": 20,
   "id": "b2fde3ff-5f8e-4c6f-b994-1f5c91e8c646",
   "metadata": {},
   "outputs": [],
   "source": [
    "def get_res_(values: list):\n",
    "    value_cnt = {}  # 将结果用一个字典存储\n",
    "    # 统计结果\n",
    "    for value in values:\n",
    "        # get(value, num)函数的作用是获取字典中value对应的键值, num=0指示初始值大小。\n",
    "        value_cnt[value[1]] = value_cnt.get(value[1], 0) + 1\n",
    "\n",
    "    # 打印输出结果\n",
    "    print(value_cnt)\n",
    "    print([key for key in value_cnt.keys()])\n",
    "    print([value for value in value_cnt.values()])\n"
   ]
  },
  {
   "cell_type": "code",
   "execution_count": 21,
   "id": "caec39a2-3a97-4f2e-a757-878ce5c6617e",
   "metadata": {},
   "outputs": [
    {
     "ename": "TypeError",
     "evalue": "unhashable type: 'list'",
     "output_type": "error",
     "traceback": [
      "\u001b[0;31m---------------------------------------------------------------------------\u001b[0m",
      "\u001b[0;31mTypeError\u001b[0m                                 Traceback (most recent call last)",
      "\u001b[0;32m/tmp/ipykernel_15166/3481800270.py\u001b[0m in \u001b[0;36m<module>\u001b[0;34m\u001b[0m\n\u001b[0;32m----> 1\u001b[0;31m \u001b[0mget_res_\u001b[0m\u001b[0;34m(\u001b[0m\u001b[0mtest\u001b[0m\u001b[0;34m)\u001b[0m\u001b[0;34m\u001b[0m\u001b[0;34m\u001b[0m\u001b[0m\n\u001b[0m",
      "\u001b[0;32m/tmp/ipykernel_15166/4060724490.py\u001b[0m in \u001b[0;36mget_res_\u001b[0;34m(values)\u001b[0m\n\u001b[1;32m      4\u001b[0m     \u001b[0;32mfor\u001b[0m \u001b[0mvalue\u001b[0m \u001b[0;32min\u001b[0m \u001b[0mvalues\u001b[0m\u001b[0;34m:\u001b[0m\u001b[0;34m\u001b[0m\u001b[0;34m\u001b[0m\u001b[0m\n\u001b[1;32m      5\u001b[0m         \u001b[0;31m# get(value, num)函数的作用是获取字典中value对应的键值, num=0指示初始值大小。\u001b[0m\u001b[0;34m\u001b[0m\u001b[0;34m\u001b[0m\u001b[0m\n\u001b[0;32m----> 6\u001b[0;31m         \u001b[0mvalue_cnt\u001b[0m\u001b[0;34m[\u001b[0m\u001b[0mvalue\u001b[0m\u001b[0;34m]\u001b[0m \u001b[0;34m=\u001b[0m \u001b[0mvalue_cnt\u001b[0m\u001b[0;34m.\u001b[0m\u001b[0mget\u001b[0m\u001b[0;34m(\u001b[0m\u001b[0mvalue\u001b[0m\u001b[0;34m,\u001b[0m \u001b[0;36m0\u001b[0m\u001b[0;34m)\u001b[0m \u001b[0;34m+\u001b[0m \u001b[0;36m1\u001b[0m\u001b[0;34m\u001b[0m\u001b[0;34m\u001b[0m\u001b[0m\n\u001b[0m\u001b[1;32m      7\u001b[0m \u001b[0;34m\u001b[0m\u001b[0m\n\u001b[1;32m      8\u001b[0m     \u001b[0;31m# 打印输出结果\u001b[0m\u001b[0;34m\u001b[0m\u001b[0;34m\u001b[0m\u001b[0m\n",
      "\u001b[0;31mTypeError\u001b[0m: unhashable type: 'list'"
     ]
    }
   ],
   "source": [
    "get_res_(test)"
   ]
  },
  {
   "cell_type": "code",
   "execution_count": null,
   "id": "4522b7de-be93-4250-aaf7-62e7c80fcdb5",
   "metadata": {},
   "outputs": [],
   "source": [
    "("
   ]
  }
 ],
 "metadata": {
  "kernelspec": {
   "display_name": "PyTorch 1.8",
   "language": "python",
   "name": "torch1.8"
  },
  "language_info": {
   "codemirror_mode": {
    "name": "ipython",
    "version": 3
   },
   "file_extension": ".py",
   "mimetype": "text/x-python",
   "name": "python",
   "nbconvert_exporter": "python",
   "pygments_lexer": "ipython3",
   "version": "3.9.7"
  }
 },
 "nbformat": 4,
 "nbformat_minor": 5
}
